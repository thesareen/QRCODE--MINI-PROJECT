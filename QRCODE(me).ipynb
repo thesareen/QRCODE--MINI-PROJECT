{
  "nbformat": 4,
  "nbformat_minor": 0,
  "metadata": {
    "colab": {
      "provenance": [],
      "authorship_tag": "ABX9TyOoEVFsqWzHgf5RtYOBj5TF",
      "include_colab_link": true
    },
    "kernelspec": {
      "name": "python3",
      "display_name": "Python 3"
    },
    "language_info": {
      "name": "python"
    }
  },
  "cells": [
    {
      "cell_type": "markdown",
      "metadata": {
        "id": "view-in-github",
        "colab_type": "text"
      },
      "source": [
        "<a href=\"https://colab.research.google.com/github/thesareen/QRCODE--MINI-PROJECT/blob/main/QRCODE(me).ipynb\" target=\"_parent\"><img src=\"https://colab.research.google.com/assets/colab-badge.svg\" alt=\"Open In Colab\"/></a>"
      ]
    },
    {
      "cell_type": "code",
      "execution_count": null,
      "metadata": {
        "id": "f87xBMj-jcuy"
      },
      "outputs": [],
      "source": [
        "#python ke kuch packages google colab mei present nahi hai but they exist in the language itself\n",
        "#aise packages ko download krne ke liye we use pip command\n",
        "#! mark is used to run the shell command\n",
        "#pip is the python package installer that installs python libraries\n",
        "#shells are used as a means to interact with the operating system. They provide a text-based interface for users to issue commands and execute various operations."
      ]
    },
    {
      "cell_type": "code",
      "source": [
        "!pip install pyqrcode\n",
        "#pyqrcode is module which generates and automates all the building process for creating a qr code\n",
        "#module is a collection of code with .py extension and library is the collection of modules"
      ],
      "metadata": {
        "colab": {
          "base_uri": "https://localhost:8080/"
        },
        "id": "vI-e4aIdl111",
        "outputId": "c4e90bbe-ccfd-495e-c9cd-fe0181e3c73a"
      },
      "execution_count": 1,
      "outputs": [
        {
          "output_type": "stream",
          "name": "stdout",
          "text": [
            "Looking in indexes: https://pypi.org/simple, https://us-python.pkg.dev/colab-wheels/public/simple/\n",
            "Collecting pyqrcode\n",
            "  Downloading PyQRCode-1.2.1.zip (41 kB)\n",
            "\u001b[?25l     \u001b[90m━━━━━━━━━━━━━━━━━━━━━━━━━━━━━━━━━━━━━━━━\u001b[0m \u001b[32m0.0/41.9 kB\u001b[0m \u001b[31m?\u001b[0m eta \u001b[36m-:--:--\u001b[0m\r\u001b[2K     \u001b[90m━━━━━━━━━━━━━━━━━━━━━━━━━━━━━━━━━━━━━━━━\u001b[0m \u001b[32m41.9/41.9 kB\u001b[0m \u001b[31m3.6 MB/s\u001b[0m eta \u001b[36m0:00:00\u001b[0m\n",
            "\u001b[?25h  Preparing metadata (setup.py) ... \u001b[?25l\u001b[?25hdone\n",
            "Building wheels for collected packages: pyqrcode\n",
            "  Building wheel for pyqrcode (setup.py) ... \u001b[?25l\u001b[?25hdone\n",
            "  Created wheel for pyqrcode: filename=PyQRCode-1.2.1-py3-none-any.whl size=36228 sha256=de6421b085baf154233c3dfc8531217ada8f8760d36bf4e68434b4bd6d6bf98a\n",
            "  Stored in directory: /root/.cache/pip/wheels/34/2d/20/082874e49a32cdcc87ebaf99dd0099fb7774ef30f010dfb6f2\n",
            "Successfully built pyqrcode\n",
            "Installing collected packages: pyqrcode\n",
            "Successfully installed pyqrcode-1.2.1\n"
          ]
        }
      ]
    },
    {
      "cell_type": "code",
      "source": [
        "!pip install pypng\n",
        "#pure python library for saving and loading png files"
      ],
      "metadata": {
        "colab": {
          "base_uri": "https://localhost:8080/"
        },
        "id": "D9-dd1ZRmsSt",
        "outputId": "9a3c5991-fcba-4b80-db31-74e6d4619d18"
      },
      "execution_count": 2,
      "outputs": [
        {
          "output_type": "stream",
          "name": "stdout",
          "text": [
            "Looking in indexes: https://pypi.org/simple, https://us-python.pkg.dev/colab-wheels/public/simple/\n",
            "Collecting pypng\n",
            "  Downloading pypng-0.20220715.0-py3-none-any.whl (58 kB)\n",
            "\u001b[2K     \u001b[90m━━━━━━━━━━━━━━━━━━━━━━━━━━━━━━━━━━━━━━━━\u001b[0m \u001b[32m58.1/58.1 kB\u001b[0m \u001b[31m5.0 MB/s\u001b[0m eta \u001b[36m0:00:00\u001b[0m\n",
            "\u001b[?25hInstalling collected packages: pypng\n",
            "Successfully installed pypng-0.20220715.0\n"
          ]
        }
      ]
    },
    {
      "cell_type": "code",
      "source": [
        "import pyqrcode\n",
        "#importing means getting access to the installed module\n",
        "website=\"https://github.com/thesareen\"\n",
        "#giving the website whose qr u wanna generate"
      ],
      "metadata": {
        "id": "ylbgPjFxnAfo"
      },
      "execution_count": 4,
      "outputs": []
    },
    {
      "cell_type": "code",
      "source": [
        "QR=pyqrcode.create(website)\n",
        "QR.png(\"myfile.png\",scale=5)#Saving the file in png format with proper scaling\n",
        "#scaling means resizing the image,giving height and width"
      ],
      "metadata": {
        "id": "qWsJHH6VnlHH"
      },
      "execution_count": 7,
      "outputs": []
    }
  ]
}